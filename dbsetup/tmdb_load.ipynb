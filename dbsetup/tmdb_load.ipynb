{
 "cells": [
  {
   "cell_type": "code",
   "execution_count": 5,
   "metadata": {},
   "outputs": [],
   "source": [
    "from dotenv import load_dotenv\n",
    "import os"
   ]
  },
  {
   "cell_type": "code",
   "execution_count": null,
   "metadata": {},
   "outputs": [],
   "source": [
    "# Load the .env file\n",
    "load_dotenv()"
   ]
  },
  {
   "cell_type": "code",
   "execution_count": 7,
   "metadata": {},
   "outputs": [],
   "source": [
    "# Access the variable\n",
    "tmdb_api_key = os.getenv('TMDB_API_KEY')\n",
    "\n",
    "# print(tmdb_api_key)  # This will print: tmd_api_key"
   ]
  },
  {
   "cell_type": "markdown",
   "metadata": {},
   "source": [
    "Rated Movies\n",
    "GET\n",
    "https://api.themoviedb.org/3/account/{account_id}/rated/movies"
   ]
  },
  {
   "cell_type": "code",
   "execution_count": 8,
   "metadata": {},
   "outputs": [],
   "source": [
    "import requests\n",
    "\n",
    "url = \"https://api.themoviedb.org/3/discover/movie?include_adult=false&include_video=false&language=en-US&page=1&sort_by=popularity.desc&vote_average.gte=8&vote_count.gte=1000\"\n",
    "\n",
    "headers = {\n",
    "    \"accept\": \"application/json\",\n",
    "    \"Authorization\": f\"Bearer {tmdb_api_key}\"\n",
    "}\n",
    "\n",
    "movie_response = requests.get(url, headers=headers).json()"
   ]
  },
  {
   "cell_type": "code",
   "execution_count": 9,
   "metadata": {},
   "outputs": [],
   "source": [
    "url = \"https://api.themoviedb.org/3/discover/movie?include_adult=false&include_video=false&language=en-US&page=2&sort_by=popularity.desc&vote_average.gte=8&vote_count.gte=1000\"\n",
    "\n",
    "headers = {\n",
    "    \"accept\": \"application/json\",\n",
    "    \"Authorization\": f\"Bearer {tmdb_api_key}\"\n",
    "}\n",
    "\n",
    "movie_response2 = requests.get(url, headers=headers).json()\n",
    "movie_response['results'] += movie_response2['results']"
   ]
  },
  {
   "cell_type": "code",
   "execution_count": 10,
   "metadata": {},
   "outputs": [],
   "source": [
    "url = \"https://api.themoviedb.org/3/discover/movie?include_adult=false&include_video=false&language=en-US&page=3&sort_by=popularity.desc&vote_average.gte=8&vote_count.gte=1000\"\n",
    "\n",
    "headers = {\n",
    "    \"accept\": \"application/json\",\n",
    "    \"Authorization\": f\"Bearer {tmdb_api_key}\"\n",
    "}\n",
    "\n",
    "movie_response3 = requests.get(url, headers=headers).json()\n",
    "movie_response['results'] += movie_response3['results']"
   ]
  },
  {
   "cell_type": "code",
   "execution_count": 11,
   "metadata": {},
   "outputs": [],
   "source": [
    "secure_base_url = \"https://image.tmdb.org/t/p/\"\n",
    "poster_sizes = [\"w92\", \"w154\", \"w185\", \"w342\", \"w500\", \"w780\", \"original\"]\n",
    "use_poster_size = poster_sizes[2]\n",
    "backdrop_sizes = [\"w300\", \"w780\", \"w1280\", \"original\"]\n",
    "use_backdrop_size = backdrop_sizes[1]\n",
    "poster_base_url = secure_base_url + use_poster_size\n",
    "backdrop_base_url = secure_base_url + use_backdrop_size"
   ]
  },
  {
   "cell_type": "code",
   "execution_count": 12,
   "metadata": {},
   "outputs": [],
   "source": [
    "url = \"https://api.themoviedb.org/3/configuration/languages\"\n",
    "\n",
    "headers = {\n",
    "    \"accept\": \"application/json\",\n",
    "    \"Authorization\": f\"Bearer {tmdb_api_key}\"\n",
    "}\n",
    "\n",
    "language_response = requests.get(url, headers=headers).json()"
   ]
  },
  {
   "cell_type": "code",
   "execution_count": 13,
   "metadata": {},
   "outputs": [],
   "source": [
    "# print(language_response)\n",
    "languages = dict()\n",
    "for language in language_response:\n",
    "    languages[language['iso_639_1']] = language['english_name']\n",
    "# print(languages)"
   ]
  },
  {
   "cell_type": "code",
   "execution_count": 14,
   "metadata": {},
   "outputs": [],
   "source": [
    "movie_lst = []\n",
    "\n",
    "for movie in movie_response['results']:\n",
    "    # print(movie['title'], movie['vote_average'], movie['vote_count'])\n",
    "    new_row = {'title': movie['title'], 'plot_summary': movie['overview'],'release_date': movie['release_date'], 'poster_url': poster_base_url + movie['poster_path'], 'backdrop_url': backdrop_base_url + movie['backdrop_path'], 'language': languages[movie['original_language']], 'tmdb_id': movie['id'], 'genres': movie['genre_ids']}\n",
    "\n",
    "    url = f\"https://api.themoviedb.org/3/movie/{movie['id']}?language=en-US\"\n",
    "\n",
    "    headers = {\n",
    "        \"accept\": \"application/json\",\n",
    "        \"Authorization\": f\"Bearer {tmdb_api_key}\"\n",
    "    }\n",
    "\n",
    "    specific_movie_response = requests.get(url, headers=headers).json()\n",
    "    new_row['duration_in_mins'] = specific_movie_response['runtime']\n",
    "\n",
    "    movie_lst.append(new_row)\n",
    "# print(df)\n"
   ]
  },
  {
   "cell_type": "code",
   "execution_count": 16,
   "metadata": {},
   "outputs": [],
   "source": [
    "import pandas as pd"
   ]
  },
  {
   "cell_type": "code",
   "execution_count": 17,
   "metadata": {},
   "outputs": [],
   "source": [
    "df = pd.DataFrame(movie_lst, columns=['title', 'plot_summary', 'release_date', 'poster_url', 'backdrop_url', 'language', 'duration_in_mins'])\n",
    "# Write the DataFrame to a CSV file\n",
    "df.to_csv('movie.csv', index=False)"
   ]
  },
  {
   "cell_type": "markdown",
   "metadata": {},
   "source": [
    "Get MoviePerson details\n",
    "\n",
    "Take top 8 casts from each movie"
   ]
  },
  {
   "cell_type": "code",
   "execution_count": 25,
   "metadata": {},
   "outputs": [
    {
     "name": "stdout",
     "output_type": "stream",
     "text": [
      "466\n"
     ]
    }
   ],
   "source": [
    "cast_limit = 8\n",
    "people_ids = set()\n",
    "movie_to_cast = dict()\n",
    "movie_to_director = dict()\n",
    "\n",
    "for movie in movie_lst:\n",
    "    url = f\"https://api.themoviedb.org/3/movie/{movie['tmdb_id']}/credits\"\n",
    "\n",
    "    headers = {\n",
    "        \"accept\": \"application/json\",   \n",
    "        \"Authorization\": f\"Bearer {tmdb_api_key}\"\n",
    "    }\n",
    "    \n",
    "    casts_response = requests.get(url, headers=headers).json()\n",
    "\n",
    "    movie_to_director[movie['title']] = [{'name': crew['name'], 'tmdb_id': crew['id']} for crew in casts_response['crew'] if crew['job'] == 'Director']\n",
    "    for director in movie_to_director[movie['title']]:\n",
    "        people_ids.add(director['tmdb_id'])\n",
    "\n",
    "    if movie['title'] not in movie_to_cast:\n",
    "        movie_to_cast[movie['title']] = []\n",
    "\n",
    "    for cast in casts_response['cast']:\n",
    "        if cast['order'] >= cast_limit:\n",
    "            break\n",
    "        people_ids.add(cast['id'])\n",
    "        movie_to_cast[movie['title']].append({'name': cast['name'], 'character': cast['character'], 'order': cast['order'], 'tmdb_id': cast['id']})\n",
    "\n",
    "print(len(people_ids)) "
   ]
  },
  {
   "cell_type": "code",
   "execution_count": 27,
   "metadata": {},
   "outputs": [
    {
     "name": "stdout",
     "output_type": "stream",
     "text": [
      "466\n"
     ]
    }
   ],
   "source": [
    "people_lst = []\n",
    "for people_id in people_ids:\n",
    "    url = f\"https://api.themoviedb.org/3/person/{people_id}\"\n",
    "\n",
    "    headers = {\n",
    "        \"accept\": \"application/json\",   \n",
    "        \"Authorization\": f\"Bearer {tmdb_api_key}\"\n",
    "    }\n",
    "\n",
    "    people_response = requests.get(url, headers=headers).json()\n",
    "\n",
    "    new_row = {\n",
    "        'name': people_response.get('name', ''),\n",
    "        'date_of_birth': people_response.get('birthday', ''),\n",
    "        'biography': people_response.get('biography', ''),\n",
    "        'image_url': poster_base_url + (people_response.get('profile_path') or ''),\n",
    "        'date_of_death': people_response.get('deathday', ''),\n",
    "        'tmdb_id': people_response.get('id', ''),\n",
    "        'place_of_birth': people_response.get('place_of_birth', '')\n",
    "    }\n",
    "\n",
    "    people_lst.append(new_row)\n",
    "\n",
    "print(len(people_lst))"
   ]
  },
  {
   "cell_type": "code",
   "execution_count": 29,
   "metadata": {},
   "outputs": [],
   "source": [
    "df = pd.DataFrame(people_lst, columns=['date_of_birth', 'biography', 'image_url', 'date_of_death', 'name', 'place_of_birth'])\n",
    "df.to_csv('movie_person.csv', index=False)"
   ]
  },
  {
   "cell_type": "markdown",
   "metadata": {},
   "source": [
    "Get all genres and create the genre table"
   ]
  },
  {
   "cell_type": "code",
   "execution_count": 18,
   "metadata": {},
   "outputs": [],
   "source": [
    "url = \"https://api.themoviedb.org/3/genre/movie/list?language=en\"\n",
    "\n",
    "headers = {\n",
    "    \"accept\": \"application/json\",\n",
    "    \"Authorization\": f\"Bearer {tmdb_api_key}\"\n",
    "}\n",
    "\n",
    "genres_response = requests.get(url, headers=headers).json()"
   ]
  },
  {
   "cell_type": "code",
   "execution_count": 19,
   "metadata": {},
   "outputs": [
    {
     "name": "stdout",
     "output_type": "stream",
     "text": [
      "19\n"
     ]
    }
   ],
   "source": [
    "genre_dict = dict()\n",
    "genre_lst = []\n",
    "for genre in genres_response['genres']:\n",
    "    genre_dict[genre['id']] = genre['name']\n",
    "    genre_lst.append({'name': genre['name']})\n",
    "\n",
    "print(len(genre_lst))"
   ]
  },
  {
   "cell_type": "code",
   "execution_count": 20,
   "metadata": {},
   "outputs": [],
   "source": [
    "df = pd.DataFrame(genre_lst, columns=['name'])\n",
    "df.to_csv('genre.csv', index=False)"
   ]
  },
  {
   "cell_type": "markdown",
   "metadata": {},
   "source": [
    "Load supabase db"
   ]
  },
  {
   "cell_type": "code",
   "execution_count": 21,
   "metadata": {},
   "outputs": [],
   "source": [
    "from supabase import create_client, Client\n",
    "\n",
    "url: str = os.getenv(\"SUPABASE_URL\")\n",
    "key: str = os.getenv(\"SUPABASE_ANON_KEY\")\n",
    "supabase: Client = create_client(url, key)"
   ]
  },
  {
   "cell_type": "markdown",
   "metadata": {},
   "source": [
    "Create movie_mapping from supabase"
   ]
  },
  {
   "cell_type": "code",
   "execution_count": 30,
   "metadata": {},
   "outputs": [
    {
     "name": "stderr",
     "output_type": "stream",
     "text": [
      "2024-02-06 08:43:03,365:INFO - HTTP Request: GET https://yvezrqitxosjfitjgzmz.supabase.co/rest/v1/movie?select=id%2C%20title \"HTTP/1.1 200 OK\"\n"
     ]
    }
   ],
   "source": [
    "supa_movie = dict()\n",
    "\n",
    "response = supabase.table('movie').select('id, title').execute()\n",
    "\n",
    "for movie in response.data:\n",
    "    supa_movie[movie['title']] = movie['id']\n",
    "\n",
    "# print(supa_movie)"
   ]
  },
  {
   "cell_type": "markdown",
   "metadata": {},
   "source": [
    "Create movie_person mapping from supabase"
   ]
  },
  {
   "cell_type": "code",
   "execution_count": 31,
   "metadata": {},
   "outputs": [
    {
     "name": "stderr",
     "output_type": "stream",
     "text": [
      "2024-02-06 08:43:08,229:INFO - HTTP Request: GET https://yvezrqitxosjfitjgzmz.supabase.co/rest/v1/movie_person?select=id%2C%20name \"HTTP/1.1 200 OK\"\n"
     ]
    }
   ],
   "source": [
    "supa_movie_person = dict()\n",
    "\n",
    "response = supabase.table('movie_person').select('id, name').execute()\n",
    "\n",
    "for person in response.data:\n",
    "    supa_movie_person[person['name']] = person['id']\n",
    "\n",
    "# print(supa_movie_person)"
   ]
  },
  {
   "cell_type": "markdown",
   "metadata": {},
   "source": [
    "Create genre mapping from supabase"
   ]
  },
  {
   "cell_type": "code",
   "execution_count": 32,
   "metadata": {},
   "outputs": [
    {
     "name": "stderr",
     "output_type": "stream",
     "text": [
      "2024-02-06 08:43:11,699:INFO - HTTP Request: GET https://yvezrqitxosjfitjgzmz.supabase.co/rest/v1/genre?select=id%2C%20name \"HTTP/1.1 200 OK\"\n"
     ]
    }
   ],
   "source": [
    "supa_genre = dict()\n",
    "\n",
    "response = supabase.table('genre').select('id, name').execute()\n",
    "\n",
    "for genre in response.data:\n",
    "    supa_genre[genre['name']] = genre['id']\n",
    "\n",
    "# print(supa_genre)"
   ]
  },
  {
   "cell_type": "markdown",
   "metadata": {},
   "source": [
    "Create the relationship tables"
   ]
  },
  {
   "cell_type": "markdown",
   "metadata": {},
   "source": [
    "Create movie_has_genre, movie_has_cast, movie_has_director"
   ]
  },
  {
   "cell_type": "code",
   "execution_count": 33,
   "metadata": {},
   "outputs": [],
   "source": [
    "movie_has_genre_lst = []\n",
    "movie_has_cast_lst = []\n",
    "movie_has_director_lst = []\n",
    "\n",
    "for movie in movie_lst:\n",
    "    movie_tmdb_id = supa_movie[movie['title']]\n",
    "    for genre_id in movie['genres']:\n",
    "        movie_has_genre_lst.append({'movie_id': movie_tmdb_id, 'genre_id': supa_genre[genre_dict[genre_id]]})\n",
    "    \n",
    "    for cast in movie_to_cast[movie['title']]:\n",
    "        movie_has_cast_lst.append({'movie_id': movie_tmdb_id, 'movie_person_id': supa_movie_person[cast['name']], 'role_name': cast['character'], 'order': cast['order']})\n",
    "    \n",
    "    for director in movie_to_director[movie['title']]:\n",
    "        movie_has_director_lst.append({'movie_id': movie_tmdb_id, 'movie_person_id': supa_movie_person[director['name']]})"
   ]
  },
  {
   "cell_type": "code",
   "execution_count": 34,
   "metadata": {},
   "outputs": [],
   "source": [
    "df = pd.DataFrame(movie_has_genre_lst, columns=['movie_id', 'genre_id'])\n",
    "df.to_csv('movie_has_genre.csv', index=False)"
   ]
  },
  {
   "cell_type": "code",
   "execution_count": 35,
   "metadata": {},
   "outputs": [],
   "source": [
    "df = pd.DataFrame(movie_has_cast_lst, columns=['movie_id', 'movie_person_id', 'role_name', 'order'])\n",
    "df.to_csv('movie_has_cast.csv', index=False)"
   ]
  },
  {
   "cell_type": "code",
   "execution_count": 36,
   "metadata": {},
   "outputs": [],
   "source": [
    "df = pd.DataFrame(movie_has_director_lst, columns=['movie_id', 'movie_person_id'])\n",
    "df.to_csv('movie_has_director.csv', index=False)"
   ]
  },
  {
   "cell_type": "markdown",
   "metadata": {},
   "source": [
    "Create movie_has_images"
   ]
  },
  {
   "cell_type": "code",
   "execution_count": 38,
   "metadata": {},
   "outputs": [],
   "source": [
    "movie_has_images_lst = []\n",
    "img_lim = 7\n",
    "\n",
    "for movie in movie_lst:\n",
    "    movie_tmdb_id = movie['tmdb_id']\n",
    "    movie_supa_id = supa_movie[movie['title']]\n",
    "\n",
    "    url = f\"https://api.themoviedb.org/3/movie/{movie_tmdb_id}/images\"\n",
    "\n",
    "    headers = {\n",
    "        \"accept\": \"application/json\",\n",
    "        \"Authorization\": f\"Bearer {tmdb_api_key}\"\n",
    "    }\n",
    "\n",
    "    images_response = requests.get(url, headers=headers).json()\n",
    "\n",
    "    cnt = 0\n",
    "    for image in images_response['posters']:\n",
    "        movie_has_images_lst.append({'movie_id': movie_supa_id, 'image_url': poster_base_url + image['file_path'], 'image_type': 'poster', 'aspect_ratio': image['aspect_ratio']})\n",
    "        cnt += 1\n",
    "        if cnt >= img_lim:\n",
    "            break\n",
    "    \n",
    "    cnt = 0\n",
    "    for image in images_response['backdrops']:\n",
    "        movie_has_images_lst.append({'movie_id': movie_supa_id, 'image_url': backdrop_base_url + image['file_path'], 'image_type': 'backdrop', 'aspect_ratio': image['aspect_ratio']})\n",
    "        cnt += 1\n",
    "        if cnt >= img_lim:\n",
    "            break\n",
    "    "
   ]
  },
  {
   "cell_type": "code",
   "execution_count": 39,
   "metadata": {},
   "outputs": [],
   "source": [
    "df = pd.DataFrame(movie_has_images_lst, columns=['movie_id', 'image_url', 'image_type', 'aspect_ratio'])\n",
    "df.to_csv('movie_has_images.csv', index=False)"
   ]
  }
 ],
 "metadata": {
  "kernelspec": {
   "display_name": "Python 3",
   "language": "python",
   "name": "python3"
  },
  "language_info": {
   "codemirror_mode": {
    "name": "ipython",
    "version": 3
   },
   "file_extension": ".py",
   "mimetype": "text/x-python",
   "name": "python",
   "nbconvert_exporter": "python",
   "pygments_lexer": "ipython3",
   "version": "3.12.1"
  }
 },
 "nbformat": 4,
 "nbformat_minor": 2
}
