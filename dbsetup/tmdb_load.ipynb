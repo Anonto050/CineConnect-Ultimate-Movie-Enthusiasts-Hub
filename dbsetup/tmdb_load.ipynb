{
 "cells": [
  {
   "cell_type": "code",
   "execution_count": null,
   "metadata": {},
   "outputs": [],
   "source": [
    "from dotenv import load_dotenv\n",
    "import os"
   ]
  },
  {
   "cell_type": "code",
   "execution_count": null,
   "metadata": {},
   "outputs": [],
   "source": [
    "# Load the .env file\n",
    "load_dotenv()"
   ]
  },
  {
   "cell_type": "code",
   "execution_count": null,
   "metadata": {},
   "outputs": [],
   "source": [
    "# Access the variable\n",
    "tmdb_api_key = os.getenv('TMDB_API_KEY')\n",
    "\n",
    "# print(tmdb_api_key)  # This will print: tmd_api_key"
   ]
  },
  {
   "cell_type": "markdown",
   "metadata": {},
   "source": [
    "Rated Movies\n",
    "GET\n",
    "https://api.themoviedb.org/3/account/{account_id}/rated/movies"
   ]
  },
  {
   "cell_type": "code",
   "execution_count": 45,
   "metadata": {},
   "outputs": [],
   "source": [
    "import requests\n",
    "\n",
    "url = \"https://api.themoviedb.org/3/discover/movie?include_adult=false&include_video=false&language=en-US&page=1&sort_by=popularity.desc&vote_average.gte=8&vote_count.gte=1000\"\n",
    "\n",
    "headers = {\n",
    "    \"accept\": \"application/json\",\n",
    "    \"Authorization\": f\"Bearer {tmdb_api_key}\"\n",
    "}\n",
    "\n",
    "movie_response = requests.get(url, headers=headers).json()"
   ]
  },
  {
   "cell_type": "code",
   "execution_count": 52,
   "metadata": {},
   "outputs": [],
   "source": [
    "url = \"https://api.themoviedb.org/3/discover/movie?include_adult=false&include_video=false&language=en-US&page=2&sort_by=popularity.desc&vote_average.gte=8&vote_count.gte=1000\"\n",
    "\n",
    "headers = {\n",
    "    \"accept\": \"application/json\",\n",
    "    \"Authorization\": f\"Bearer {tmdb_api_key}\"\n",
    "}\n",
    "\n",
    "movie_response2 = requests.get(url, headers=headers).json()\n",
    "movie_response['results'] += movie_response2['results']"
   ]
  },
  {
   "cell_type": "code",
   "execution_count": 30,
   "metadata": {},
   "outputs": [
    {
     "name": "stdout",
     "output_type": "stream",
     "text": [
      "dict_keys(['page', 'results', 'total_pages', 'total_results'])\n",
      "dict_keys(['adult', 'backdrop_path', 'genre_ids', 'id', 'original_language', 'original_title', 'overview', 'popularity', 'poster_path', 'release_date', 'title', 'video', 'vote_average', 'vote_count'])\n"
     ]
    }
   ],
   "source": [
    "\n",
    "# print(response.text)\n",
    "# print(response.json())\n",
    "# print(type(response.json()))\n",
    "# print(movie_response.keys())\n",
    "# print(type(response['results']))\n",
    "# print(len(response['results']))\n",
    "# print(response['total_pages'])\n",
    "# print(response['total_results'])\n",
    "\n",
    "# print(movie_response['results'][0].keys())"
   ]
  },
  {
   "cell_type": "code",
   "execution_count": 44,
   "metadata": {},
   "outputs": [],
   "source": [
    "secure_base_url = \"https://image.tmdb.org/t/p/\"\n",
    "poster_sizes = [\"w92\", \"w154\", \"w185\", \"w342\", \"w500\", \"w780\", \"original\"]\n",
    "use_poster_size = poster_sizes[3]\n",
    "backdrop_sizes = [\"w300\", \"w780\", \"w1280\", \"original\"]\n",
    "use_backdrop_size = backdrop_sizes[2]\n",
    "poster_base_url = secure_base_url + use_poster_size\n",
    "backdrop_base_url = secure_base_url + use_backdrop_size"
   ]
  },
  {
   "cell_type": "code",
   "execution_count": 46,
   "metadata": {},
   "outputs": [],
   "source": [
    "url = \"https://api.themoviedb.org/3/configuration/languages\"\n",
    "\n",
    "headers = {\n",
    "    \"accept\": \"application/json\",\n",
    "    \"Authorization\": f\"Bearer {tmdb_api_key}\"\n",
    "}\n",
    "\n",
    "language_response = requests.get(url, headers=headers).json()"
   ]
  },
  {
   "cell_type": "code",
   "execution_count": null,
   "metadata": {},
   "outputs": [],
   "source": [
    "# print(language_response)\n",
    "languages = dict()\n",
    "for language in language_response:\n",
    "    languages[language['iso_639_1']] = language['english_name']\n",
    "# print(languages)"
   ]
  },
  {
   "cell_type": "code",
   "execution_count": 38,
   "metadata": {},
   "outputs": [],
   "source": [
    "import pandas as pd"
   ]
  },
  {
   "cell_type": "code",
   "execution_count": 53,
   "metadata": {},
   "outputs": [],
   "source": [
    "lst = []\n",
    "\n",
    "for movie in movie_response['results']:\n",
    "    # print(movie['title'], movie['vote_average'], movie['vote_count'])\n",
    "    new_row = {'title': movie['title'], 'plot_summary': movie['overview'],'release_date': movie['release_date'], 'poster_url': poster_base_url + movie['poster_path'], 'backdrop_url': backdrop_base_url + movie['backdrop_path'], 'language': languages[movie['original_language']]}\n",
    "\n",
    "    url = f\"https://api.themoviedb.org/3/movie/{movie['id']}?language=en-US\"\n",
    "\n",
    "    headers = {\n",
    "        \"accept\": \"application/json\",\n",
    "        \"Authorization\": f\"Bearer {tmdb_api_key}\"\n",
    "    }\n",
    "\n",
    "    specific_movie_response = requests.get(url, headers=headers).json()\n",
    "    new_row['duration_in_mins'] = specific_movie_response['runtime']\n",
    "\n",
    "    lst.append(new_row)\n",
    "# print(df)\n"
   ]
  },
  {
   "cell_type": "code",
   "execution_count": 55,
   "metadata": {},
   "outputs": [],
   "source": [
    "url = \"https://api.themoviedb.org/3/discover/movie?include_adult=false&include_video=false&language=en-US&page=3&sort_by=popularity.desc&vote_average.gte=8&vote_count.gte=1000\"\n",
    "\n",
    "headers = {\n",
    "    \"accept\": \"application/json\",\n",
    "    \"Authorization\": f\"Bearer {tmdb_api_key}\"\n",
    "}\n",
    "\n",
    "movie_response3 = requests.get(url, headers=headers).json()"
   ]
  },
  {
   "cell_type": "code",
   "execution_count": 56,
   "metadata": {},
   "outputs": [],
   "source": [
    "for movie in movie_response3['results']:\n",
    "    # print(movie['title'], movie['vote_average'], movie['vote_count'])\n",
    "    new_row = {'title': movie['title'], 'plot_summary': movie['overview'],'release_date': movie['release_date'], 'poster_url': poster_base_url + movie['poster_path'], 'backdrop_url': backdrop_base_url + movie['backdrop_path'], 'language': languages[movie['original_language']]}\n",
    "\n",
    "    url = f\"https://api.themoviedb.org/3/movie/{movie['id']}?language=en-US\"\n",
    "\n",
    "    headers = {\n",
    "        \"accept\": \"application/json\",\n",
    "        \"Authorization\": f\"Bearer {tmdb_api_key}\"\n",
    "    }\n",
    "\n",
    "    specific_movie_response = requests.get(url, headers=headers).json()\n",
    "    new_row['duration_in_mins'] = specific_movie_response['runtime']\n",
    "\n",
    "    lst.append(new_row)\n",
    "# print(df)"
   ]
  },
  {
   "cell_type": "code",
   "execution_count": 57,
   "metadata": {},
   "outputs": [],
   "source": [
    "df = pd.DataFrame(lst, columns=['title', 'plot_summary', 'release_date', 'poster_url', 'backdrop_url', 'language', 'duration_in_mins'])\n",
    "# Write the DataFrame to a CSV file\n",
    "df.to_csv('movie.csv', index=False)"
   ]
  },
  {
   "cell_type": "code",
   "execution_count": 43,
   "metadata": {},
   "outputs": [
    {
     "name": "stdout",
     "output_type": "stream",
     "text": [
      "{'adult': False, 'backdrop_path': '/vdpE5pjJVql5aD6pnzRqlFmgxXf.jpg', 'genre_ids': [18, 36], 'id': 906126, 'original_language': 'es', 'original_title': 'La sociedad de la nieve', 'overview': 'On October 13, 1972, Uruguayan Air Force Flight 571, chartered to take a rugby team to Chile, crashes into a glacier in the heart of the Andes.', 'popularity': 647.981, 'poster_path': '/2e853FDVSIso600RqAMunPxiZjq.jpg', 'release_date': '2023-12-13', 'title': 'Society of the Snow', 'video': False, 'vote_average': 8.1, 'vote_count': 1636}\n"
     ]
    }
   ],
   "source": [
    "print(movie_response['results'][0])"
   ]
  }
 ],
 "metadata": {
  "kernelspec": {
   "display_name": "Python 3",
   "language": "python",
   "name": "python3"
  },
  "language_info": {
   "codemirror_mode": {
    "name": "ipython",
    "version": 3
   },
   "file_extension": ".py",
   "mimetype": "text/x-python",
   "name": "python",
   "nbconvert_exporter": "python",
   "pygments_lexer": "ipython3",
   "version": "3.12.1"
  }
 },
 "nbformat": 4,
 "nbformat_minor": 2
}
